{
  "nbformat": 4,
  "nbformat_minor": 0,
  "metadata": {
    "colab": {
      "name": "Assignment - 10/04 (Is It a Prime Number?).ipynb",
      "provenance": [],
      "authorship_tag": "ABX9TyNVxa5JNjKEYWV0gxuSxCwg",
      "include_colab_link": true
    },
    "kernelspec": {
      "name": "python3",
      "display_name": "Python 3"
    },
    "language_info": {
      "name": "python"
    }
  },
  "cells": [
    {
      "cell_type": "markdown",
      "metadata": {
        "id": "view-in-github",
        "colab_type": "text"
      },
      "source": [
        "<a href=\"https://colab.research.google.com/github/EmreOzdin/pythonassignment/blob/main/Assignment_10_04_(Is_It_a_Prime_Number%3F).ipynb\" target=\"_parent\"><img src=\"https://colab.research.google.com/assets/colab-badge.svg\" alt=\"Open In Colab\"/></a>"
      ]
    },
    {
      "cell_type": "code",
      "metadata": {
        "colab": {
          "base_uri": "https://localhost:8080/"
        },
        "id": "VY8SeaY4eSge",
        "outputId": "43d9d333-b6a7-4501-b1e7-65fc92b2e111"
      },
      "source": [
        "num = int(input(\"enter a number: \"))\n",
        "\n",
        "for i in range(2, num):\n",
        "  if num % i == 0:\n",
        "    print(\"this is not a prime number\")\n",
        "    break\n",
        "else:\n",
        "  print(\"this is a prime number\")\n",
        "   \n",
        "    \n",
        "\n",
        "  "
      ],
      "execution_count": 41,
      "outputs": [
        {
          "output_type": "stream",
          "name": "stdout",
          "text": [
            "enter a number: 10\n",
            "this is not a prime number\n"
          ]
        }
      ]
    },
    {
      "cell_type": "code",
      "metadata": {
        "id": "C21bN4P-hzoa"
      },
      "source": [
        "\n"
      ],
      "execution_count": null,
      "outputs": []
    }
  ]
}