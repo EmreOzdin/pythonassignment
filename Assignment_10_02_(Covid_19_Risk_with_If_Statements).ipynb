{
  "nbformat": 4,
  "nbformat_minor": 0,
  "metadata": {
    "colab": {
      "name": "Assignment - 10/02 (Covid-19 Risk with If Statements).ipynb",
      "provenance": [],
      "authorship_tag": "ABX9TyPEjrO130WYHsisGh78FcFA",
      "include_colab_link": true
    },
    "kernelspec": {
      "name": "python3",
      "display_name": "Python 3"
    },
    "language_info": {
      "name": "python"
    }
  },
  "cells": [
    {
      "cell_type": "markdown",
      "metadata": {
        "id": "view-in-github",
        "colab_type": "text"
      },
      "source": [
        "<a href=\"https://colab.research.google.com/github/EmreOzdin/pythonassignment/blob/main/Assignment_10_02_(Covid_19_Risk_with_If_Statements).ipynb\" target=\"_parent\"><img src=\"https://colab.research.google.com/assets/colab-badge.svg\" alt=\"Open In Colab\"/></a>"
      ]
    },
    {
      "cell_type": "code",
      "metadata": {
        "id": "VWxTD-jxm0AM"
      },
      "source": [
        "age = input(\"Are you a cigarette addict older than 75 years old? (T/F): \")\n",
        "\n",
        "chronic = input(\"Do you have a severe chronic disease? (T/F): \")\n",
        "\n",
        "immune = input(\"Is your immune system too weak?(T/F): \")\n",
        "\n",
        "sonuc = age or chronic or immune\n",
        "\n",
        "\n",
        "\n",
        "print(\"Is there a risk of death: \", sonuc)"
      ],
      "execution_count": null,
      "outputs": []
    }
  ]
}