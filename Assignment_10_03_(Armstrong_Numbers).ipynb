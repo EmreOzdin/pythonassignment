{
  "nbformat": 4,
  "nbformat_minor": 0,
  "metadata": {
    "colab": {
      "name": "Assignment - 10/03 (Armstrong Numbers).ipynb",
      "provenance": [],
      "authorship_tag": "ABX9TyP1+OzScWGt1YLcAfEBQMkk",
      "include_colab_link": true
    },
    "kernelspec": {
      "name": "python3",
      "display_name": "Python 3"
    },
    "language_info": {
      "name": "python"
    }
  },
  "cells": [
    {
      "cell_type": "markdown",
      "metadata": {
        "id": "view-in-github",
        "colab_type": "text"
      },
      "source": [
        "<a href=\"https://colab.research.google.com/github/EmreOzdin/pythonassignment/blob/main/Assignment_10_03_(Armstrong_Numbers).ipynb\" target=\"_parent\"><img src=\"https://colab.research.google.com/assets/colab-badge.svg\" alt=\"Open In Colab\"/></a>"
      ]
    },
    {
      "cell_type": "code",
      "metadata": {
        "id": "VY8SeaY4eSge"
      },
      "source": [
        "num = input(\"enter a number: \")\n",
        "toplam = 0\n",
        "\n",
        "\n",
        "if num.isnumeric():\n",
        "    print(\"This is a numeric number\")\n",
        "    for i in num:\n",
        "        toplam += int(i)**len(num)\n",
        "    if toplam == int(num):\n",
        "        print(\"this is an armstrong number\")\n",
        "    else:\n",
        "        print(\"But this is not an armstrong number\")\n",
        "else:\n",
        "    print(\"this is not a numeric number\")"
      ],
      "execution_count": null,
      "outputs": []
    }
  ]
}