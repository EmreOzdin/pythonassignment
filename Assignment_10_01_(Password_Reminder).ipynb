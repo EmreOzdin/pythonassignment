{
  "nbformat": 4,
  "nbformat_minor": 0,
  "metadata": {
    "colab": {
      "name": "Assignment - 10/01 (Password Reminder).ipynb",
      "provenance": [],
      "authorship_tag": "ABX9TyM/mDo6k03nYaI33UjRqcSR",
      "include_colab_link": true
    },
    "kernelspec": {
      "name": "python3",
      "display_name": "Python 3"
    },
    "language_info": {
      "name": "python"
    }
  },
  "cells": [
    {
      "cell_type": "markdown",
      "metadata": {
        "id": "view-in-github",
        "colab_type": "text"
      },
      "source": [
        "<a href=\"https://colab.research.google.com/github/EmreOzdin/pythonassignment/blob/main/Assignment_10_01_(Password_Reminder).ipynb\" target=\"_parent\"><img src=\"https://colab.research.google.com/assets/colab-badge.svg\" alt=\"Open In Colab\"/></a>"
      ]
    },
    {
      "cell_type": "markdown",
      "metadata": {
        "id": "hogxkrsplbfW"
      },
      "source": [
        "Task : Let's say; you left a message in the past that prints a password you need. To see the password you wrote, you need to enter your name and the program should recognize you.\n",
        "Write a program that \n",
        "\n",
        "Takes the first name from the user and compares it to yours,\n",
        "Then if the name the user entered is the same as yours, print out such as : \"Hello, Joseph! The password is : W@12\",\n",
        "If the name the user entered is not the same as yours, print out such as : \"Hello, Amina! See you later.\""
      ]
    },
    {
      "cell_type": "code",
      "metadata": {
        "colab": {
          "base_uri": "https://localhost:8080/"
        },
        "id": "HSOF1QJKlfGX",
        "outputId": "ef57b36d-068d-4205-db1e-cf8bd0713465"
      },
      "source": [
        "user_name = input(\"Please write your name: \").title()\n",
        "name = \"Emre\"\n",
        "\n",
        "if name == user_name:\n",
        "  print(f\"Hello, {user_name}! The password is : W@12\")\n",
        "else:\n",
        "  print(f\"Hello, {user_name}! See you later.\")"
      ],
      "execution_count": 3,
      "outputs": [
        {
          "output_type": "stream",
          "name": "stdout",
          "text": [
            "Please write your name: emre\n",
            "Hello, Emre! The password is : W@12\n"
          ]
        }
      ]
    }
  ]
}